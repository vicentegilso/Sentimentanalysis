{
  "nbformat": 4,
  "nbformat_minor": 0,
  "metadata": {
    "colab": {
      "name": "OCR.ipynb",
      "provenance": [],
      "collapsed_sections": [],
      "include_colab_link": true
    },
    "kernelspec": {
      "name": "python3",
      "display_name": "Python 3"
    },
    "language_info": {
      "name": "python"
    },
    "accelerator": "GPU"
  },
  "cells": [
    {
      "cell_type": "markdown",
      "metadata": {
        "id": "view-in-github",
        "colab_type": "text"
      },
      "source": [
        "<a href=\"https://colab.research.google.com/github/vicentegilso/Sentimentanalysis/blob/main/OCR.ipynb\" target=\"_parent\"><img src=\"https://colab.research.google.com/assets/colab-badge.svg\" alt=\"Open In Colab\"/></a>"
      ]
    },
    {
      "cell_type": "markdown",
      "metadata": {
        "id": "O1sBfXF-u6Zp"
      },
      "source": [
        "## Instalacion de Paquetes Necesarios"
      ]
    },
    {
      "cell_type": "code",
      "metadata": {
        "id": "KIkJjr8svNzY",
        "outputId": "ed17ad7b-5997-402a-fb67-79b73b870cb3",
        "colab": {
          "base_uri": "https://localhost:8080/"
        }
      },
      "source": [
        "# cargar los archivos del drive!\n",
        "!sudo apt-get install tesseract-ocr\n",
        "!pip install pytesseract\n",
        "!pip uninstall --yes scipy\n",
        "!pip install scipy==1.1.0"
      ],
      "execution_count": 1,
      "outputs": [
        {
          "output_type": "stream",
          "text": [
            "Reading package lists... Done\n",
            "Building dependency tree       \n",
            "Reading state information... Done\n",
            "The following package was automatically installed and is no longer required:\n",
            "  libnvidia-common-460\n",
            "Use 'sudo apt autoremove' to remove it.\n",
            "The following additional packages will be installed:\n",
            "  tesseract-ocr-eng tesseract-ocr-osd\n",
            "The following NEW packages will be installed:\n",
            "  tesseract-ocr tesseract-ocr-eng tesseract-ocr-osd\n",
            "0 upgraded, 3 newly installed, 0 to remove and 34 not upgraded.\n",
            "Need to get 4,795 kB of archives.\n",
            "After this operation, 15.8 MB of additional disk space will be used.\n",
            "Get:1 http://archive.ubuntu.com/ubuntu bionic/universe amd64 tesseract-ocr-eng all 4.00~git24-0e00fe6-1.2 [1,588 kB]\n",
            "Get:2 http://archive.ubuntu.com/ubuntu bionic/universe amd64 tesseract-ocr-osd all 4.00~git24-0e00fe6-1.2 [2,989 kB]\n",
            "Get:3 http://archive.ubuntu.com/ubuntu bionic/universe amd64 tesseract-ocr amd64 4.00~git2288-10f4998a-2 [218 kB]\n",
            "Fetched 4,795 kB in 2s (3,065 kB/s)\n",
            "debconf: unable to initialize frontend: Dialog\n",
            "debconf: (No usable dialog-like program is installed, so the dialog based frontend cannot be used. at /usr/share/perl5/Debconf/FrontEnd/Dialog.pm line 76, <> line 3.)\n",
            "debconf: falling back to frontend: Readline\n",
            "debconf: unable to initialize frontend: Readline\n",
            "debconf: (This frontend requires a controlling tty.)\n",
            "debconf: falling back to frontend: Teletype\n",
            "dpkg-preconfigure: unable to re-open stdin: \n",
            "Selecting previously unselected package tesseract-ocr-eng.\n",
            "(Reading database ... 160706 files and directories currently installed.)\n",
            "Preparing to unpack .../tesseract-ocr-eng_4.00~git24-0e00fe6-1.2_all.deb ...\n",
            "Unpacking tesseract-ocr-eng (4.00~git24-0e00fe6-1.2) ...\n",
            "Selecting previously unselected package tesseract-ocr-osd.\n",
            "Preparing to unpack .../tesseract-ocr-osd_4.00~git24-0e00fe6-1.2_all.deb ...\n",
            "Unpacking tesseract-ocr-osd (4.00~git24-0e00fe6-1.2) ...\n",
            "Selecting previously unselected package tesseract-ocr.\n",
            "Preparing to unpack .../tesseract-ocr_4.00~git2288-10f4998a-2_amd64.deb ...\n",
            "Unpacking tesseract-ocr (4.00~git2288-10f4998a-2) ...\n",
            "Setting up tesseract-ocr-osd (4.00~git24-0e00fe6-1.2) ...\n",
            "Setting up tesseract-ocr-eng (4.00~git24-0e00fe6-1.2) ...\n",
            "Setting up tesseract-ocr (4.00~git2288-10f4998a-2) ...\n",
            "Processing triggers for man-db (2.8.3-2ubuntu0.1) ...\n",
            "Collecting pytesseract\n",
            "  Downloading https://files.pythonhosted.org/packages/a0/e6/a4e9fc8a93c1318540e8de6d8d4beb5749b7960388a7c7f27799fc2dd016/pytesseract-0.3.7.tar.gz\n",
            "Requirement already satisfied: Pillow in /usr/local/lib/python3.7/dist-packages (from pytesseract) (7.1.2)\n",
            "Building wheels for collected packages: pytesseract\n",
            "  Building wheel for pytesseract (setup.py) ... \u001b[?25l\u001b[?25hdone\n",
            "  Created wheel for pytesseract: filename=pytesseract-0.3.7-py2.py3-none-any.whl size=13945 sha256=bec437b898026d97b596dc99d6d6a462e190ff0fffc74690a85c4f767f8ba19b\n",
            "  Stored in directory: /root/.cache/pip/wheels/81/20/7e/1dd0daad1575d5260916bb1e9781246430647adaef4b3ca3b3\n",
            "Successfully built pytesseract\n",
            "Installing collected packages: pytesseract\n",
            "Successfully installed pytesseract-0.3.7\n",
            "Uninstalling scipy-1.4.1:\n",
            "  Successfully uninstalled scipy-1.4.1\n",
            "Collecting scipy==1.1.0\n",
            "\u001b[?25l  Downloading https://files.pythonhosted.org/packages/40/de/0c22c6754370ba6b1fa8e53bd6e514d4a41a181125d405a501c215cbdbd6/scipy-1.1.0-cp37-cp37m-manylinux1_x86_64.whl (31.2MB)\n",
            "\u001b[K     |████████████████████████████████| 31.2MB 90kB/s \n",
            "\u001b[?25hRequirement already satisfied: numpy>=1.8.2 in /usr/local/lib/python3.7/dist-packages (from scipy==1.1.0) (1.19.5)\n",
            "\u001b[31mERROR: pymc3 3.11.2 has requirement scipy>=1.2.0, but you'll have scipy 1.1.0 which is incompatible.\u001b[0m\n",
            "\u001b[31mERROR: plotnine 0.6.0 has requirement scipy>=1.2.0, but you'll have scipy 1.1.0 which is incompatible.\u001b[0m\n",
            "\u001b[31mERROR: albumentations 0.1.12 has requirement imgaug<0.2.7,>=0.2.5, but you'll have imgaug 0.2.9 which is incompatible.\u001b[0m\n",
            "Installing collected packages: scipy\n",
            "Successfully installed scipy-1.1.0\n"
          ],
          "name": "stdout"
        }
      ]
    },
    {
      "cell_type": "markdown",
      "metadata": {
        "id": "0j5c7e6awQDu"
      },
      "source": [
        "## Simple OCR"
      ]
    },
    {
      "cell_type": "code",
      "metadata": {
        "id": "1VSoTGB1tg4Q"
      },
      "source": [
        "# pytesseract es una libreria de Google que contiene un modelo de OCR\n",
        "import pytesseract\n",
        "# usaremos OpenCV, libreria principal para trabajar con imagenes\n",
        "import cv2\n",
        "import numpy as np\n",
        "import matplotlib.pyplot as plt"
      ],
      "execution_count": 2,
      "outputs": []
    },
    {
      "cell_type": "code",
      "metadata": {
        "id": "Ylxnm6uUwbMn"
      },
      "source": [
        "# decodificamos la imagen y la cargamos en memoria\n",
        "# PATH: ./drive/MyDrive/EDEM_Master/...\n",
        "image = cv2.imread(\"./drive/MyDrive/EDEM_Master/OCR/test_OCR_pt1.png\")\n",
        "# cambiamos el orden de los canales para que Tesseract los pueda leer\n",
        "image = cv2.cvtColor(image, cv2.COLOR_BGR2RGB)\n",
        "# OpenCV devuelve un objeto de tipo Numpy\n",
        "print(type(image), image.shape)\n",
        "plt.imshow(image)"
      ],
      "execution_count": null,
      "outputs": []
    },
    {
      "cell_type": "code",
      "metadata": {
        "id": "iDwRs5kmxang"
      },
      "source": [
        "print(pytesseract.image_to_string(image))"
      ],
      "execution_count": null,
      "outputs": []
    },
    {
      "cell_type": "code",
      "metadata": {
        "id": "VlEVuFcuym-4"
      },
      "source": [
        "# decodificamos la imagen y la cargamos en memoria\n",
        "image = cv2.imread(\"./drive/MyDrive/EDEM_Master/OCR/test_OCR_pt2.jpg\")\n",
        "image = cv2.cvtColor(image, cv2.COLOR_BGR2RGB)\n",
        "# OpenCV devuelve un objeto de tipo Numpy\n",
        "print(type(image), image.shape)\n",
        "plt.imshow(image)"
      ],
      "execution_count": null,
      "outputs": []
    },
    {
      "cell_type": "code",
      "metadata": {
        "id": "UOtnPRhYzJSJ"
      },
      "source": [
        "# sacamos ahora las cajas de deteccion de texto para saber la localizacion\n",
        "config = (\"-l eng --oem 1 --psm 7\")\n",
        "box_data = pytesseract.image_to_boxes(image)\n",
        "print(box_data)"
      ],
      "execution_count": null,
      "outputs": []
    },
    {
      "cell_type": "code",
      "metadata": {
        "id": "qZ3hqpsmzYa5"
      },
      "source": [
        "# copiamos la imagen para poder dibujar sobre ella sin modificar la original\n",
        "canvas = image.copy()\n",
        "\n",
        "# iteramos sobre cada linea\n",
        "for c in box_data.split('\\n')[:-1]:\n",
        "  # separamos por espacios y almacenamos en variables\n",
        "  _, x1, y1, x2, y2, _, = c.split(' ')\n",
        "  # dibujamos los cuadrados sobre la imagen usando una funcion de OpenCV\n",
        "  cv2.rectangle(canvas, (int(x1), int(y1)), (int(x2), int(y2)), (0, 255, 0), 2)\n",
        "\n",
        "# mostramos la imagen\n",
        "plt.figure(figsize=(7, 7))\n",
        "plt.imshow(canvas)"
      ],
      "execution_count": null,
      "outputs": []
    },
    {
      "cell_type": "markdown",
      "metadata": {
        "id": "_-QfaMdT0u3g"
      },
      "source": [
        ""
      ]
    },
    {
      "cell_type": "code",
      "metadata": {
        "id": "766cHVl94N9o"
      },
      "source": [
        "# ahora un ejemplo mas complicado\n",
        "image = cv2.imread('./drive/MyDrive/EDEM_Master/OCR/test_OCR_pt3.jpg')\n",
        "image = cv2.cvtColor(image, cv2.COLOR_BGR2RGB)\n",
        "plt.imshow(image)"
      ],
      "execution_count": null,
      "outputs": []
    },
    {
      "cell_type": "code",
      "metadata": {
        "id": "4e7m3BXq5aPb"
      },
      "source": [
        "# tesseract ocr no saca nada...\n",
        "print(pytesseract.image_to_string(image))"
      ],
      "execution_count": null,
      "outputs": []
    },
    {
      "cell_type": "markdown",
      "metadata": {
        "id": "fU1Nr6x4krLX"
      },
      "source": [
        "## Ejercicio 1\n",
        "### Extraccion de Partes de un Form "
      ]
    },
    {
      "cell_type": "code",
      "metadata": {
        "id": "dU9Nq8w2lE5e"
      },
      "source": [
        "# cargamos la imagen de un form simple \n",
        "image = cv2.imread('./drive/MyDrive/EDEM_Master/OCR/ej_OCR_1.png')\n",
        "image = cv2.cvtColor(image, cv2.COLOR_BGR2RGB)\n",
        "plt.figure(figsize=(10, 10))\n",
        "plt.imshow(image)"
      ],
      "execution_count": null,
      "outputs": []
    },
    {
      "cell_type": "code",
      "metadata": {
        "id": "Ad1Y-JFhmpbe"
      },
      "source": [
        "# El ejercicio consistira en sacar la informacion de: NOMBRE DEL APLICANTE,\n",
        "# NUMERO DE TELEFONO Y RESIDUAL PRESSURE (+ QUE UNIDADES USA (EXTRA)).\n",
        "# TIPS: Sacar primero el texto de la imagen y ver como se separan los caracteres,\n",
        "# suponer que siempre el nombre (siempre nobre + 1 apellido) va a estar detras de \"Name\", etc...\n",
        "# FUNCIONES UTILES PARA GOOGLEAR: \"split()\", \"index()\", \"filter()\", \"join()\""
      ],
      "execution_count": null,
      "outputs": []
    },
    {
      "cell_type": "code",
      "metadata": {
        "id": "W8gwG_WEplVo"
      },
      "source": [
        "# TO-DO\n",
        "# ..."
      ],
      "execution_count": null,
      "outputs": []
    }
  ]
}